{
 "cells": [
  {
   "cell_type": "code",
   "execution_count": 13,
   "metadata": {},
   "outputs": [],
   "source": [
    "import pandas as pd"
   ]
  },
  {
   "cell_type": "code",
   "execution_count": 14,
   "metadata": {
    "scrolled": true
   },
   "outputs": [
    {
     "data": {
      "text/html": [
       "<div>\n",
       "<style scoped>\n",
       "    .dataframe tbody tr th:only-of-type {\n",
       "        vertical-align: middle;\n",
       "    }\n",
       "\n",
       "    .dataframe tbody tr th {\n",
       "        vertical-align: top;\n",
       "    }\n",
       "\n",
       "    .dataframe thead th {\n",
       "        text-align: right;\n",
       "    }\n",
       "</style>\n",
       "<table border=\"1\" class=\"dataframe\">\n",
       "  <thead>\n",
       "    <tr style=\"text-align: right;\">\n",
       "      <th></th>\n",
       "      <th>Id</th>\n",
       "      <th>Strain</th>\n",
       "      <th>Type</th>\n",
       "      <th>Rating</th>\n",
       "      <th>Effects</th>\n",
       "      <th>Description</th>\n",
       "      <th>Flavors</th>\n",
       "      <th>Nearest</th>\n",
       "    </tr>\n",
       "  </thead>\n",
       "  <tbody>\n",
       "    <tr>\n",
       "      <th>0</th>\n",
       "      <td>0</td>\n",
       "      <td>Kelly Hill Gold</td>\n",
       "      <td>indica</td>\n",
       "      <td>5.0</td>\n",
       "      <td>Happy,Energetic,Euphoric,Talkative,Aroused</td>\n",
       "      <td>Cultivated by Joseph Arthur Botanicals in Colo...</td>\n",
       "      <td>Pepper,Earthy,Coffee</td>\n",
       "      <td>0,992,897,439,184,1877</td>\n",
       "    </tr>\n",
       "    <tr>\n",
       "      <th>1</th>\n",
       "      <td>1</td>\n",
       "      <td>Spyder Mon</td>\n",
       "      <td>hybrid</td>\n",
       "      <td>5.0</td>\n",
       "      <td>Uplifted,Creative,Focused,Happy,Relaxed</td>\n",
       "      <td>Spyder Mon is an uplifting CBD strain with a g...</td>\n",
       "      <td>Citrus,Earthy,Sweet</td>\n",
       "      <td>12,181,571,627,223,700</td>\n",
       "    </tr>\n",
       "    <tr>\n",
       "      <th>2</th>\n",
       "      <td>2</td>\n",
       "      <td>Mochi</td>\n",
       "      <td>hybrid</td>\n",
       "      <td>5.0</td>\n",
       "      <td>Sleepy,Happy,Hungry,Relaxed,Tingly</td>\n",
       "      <td>Mochi by Sherbinski is another strain that lea...</td>\n",
       "      <td>Pungent,Minty,Flowery</td>\n",
       "      <td>2,614,457,208,705,130</td>\n",
       "    </tr>\n",
       "    <tr>\n",
       "      <th>3</th>\n",
       "      <td>3</td>\n",
       "      <td>Molokai Purpz</td>\n",
       "      <td>indica</td>\n",
       "      <td>5.0</td>\n",
       "      <td>Aroused,Creative,Euphoric,Relaxed,Sleepy</td>\n",
       "      <td>Moloka’i Purpz is a luscious Hawaiian landrace...</td>\n",
       "      <td>Berry,Grape,Sweet</td>\n",
       "      <td>3,1478,562,1063,50,390</td>\n",
       "    </tr>\n",
       "    <tr>\n",
       "      <th>4</th>\n",
       "      <td>4</td>\n",
       "      <td>Monolith</td>\n",
       "      <td>indica</td>\n",
       "      <td>5.0</td>\n",
       "      <td>Relaxed,Sleepy,Tingly,Euphoric,Focused</td>\n",
       "      <td>Monolith is an indica-dominant strain with Afg...</td>\n",
       "      <td>Pungent,Earthy,Pine</td>\n",
       "      <td>413,978,621,094,214,000</td>\n",
       "    </tr>\n",
       "  </tbody>\n",
       "</table>\n",
       "</div>"
      ],
      "text/plain": [
       "   Id           Strain    Type  Rating  \\\n",
       "0   0  Kelly Hill Gold  indica     5.0   \n",
       "1   1       Spyder Mon  hybrid     5.0   \n",
       "2   2            Mochi  hybrid     5.0   \n",
       "3   3    Molokai Purpz  indica     5.0   \n",
       "4   4         Monolith  indica     5.0   \n",
       "\n",
       "                                      Effects  \\\n",
       "0  Happy,Energetic,Euphoric,Talkative,Aroused   \n",
       "1     Uplifted,Creative,Focused,Happy,Relaxed   \n",
       "2          Sleepy,Happy,Hungry,Relaxed,Tingly   \n",
       "3    Aroused,Creative,Euphoric,Relaxed,Sleepy   \n",
       "4      Relaxed,Sleepy,Tingly,Euphoric,Focused   \n",
       "\n",
       "                                         Description                Flavors  \\\n",
       "0  Cultivated by Joseph Arthur Botanicals in Colo...   Pepper,Earthy,Coffee   \n",
       "1  Spyder Mon is an uplifting CBD strain with a g...    Citrus,Earthy,Sweet   \n",
       "2  Mochi by Sherbinski is another strain that lea...  Pungent,Minty,Flowery   \n",
       "3  Moloka’i Purpz is a luscious Hawaiian landrace...      Berry,Grape,Sweet   \n",
       "4  Monolith is an indica-dominant strain with Afg...    Pungent,Earthy,Pine   \n",
       "\n",
       "                   Nearest  \n",
       "0   0,992,897,439,184,1877  \n",
       "1   12,181,571,627,223,700  \n",
       "2    2,614,457,208,705,130  \n",
       "3   3,1478,562,1063,50,390  \n",
       "4  413,978,621,094,214,000  "
      ]
     },
     "execution_count": 14,
     "metadata": {},
     "output_type": "execute_result"
    }
   ],
   "source": [
    "# Upload the data:\n",
    "df = pd.read_csv('../app/api/cannabis_new.csv')\n",
    "df.head()"
   ]
  },
  {
   "cell_type": "code",
   "execution_count": 15,
   "metadata": {},
   "outputs": [
    {
     "data": {
      "text/plain": [
       "'Happy,Energetic,Euphoric,Talkative,Aroused'"
      ]
     },
     "execution_count": 15,
     "metadata": {},
     "output_type": "execute_result"
    }
   ],
   "source": [
    "df['Effects'][0]"
   ]
  },
  {
   "cell_type": "code",
   "execution_count": 16,
   "metadata": {},
   "outputs": [
    {
     "data": {
      "text/plain": [
       "(2155, 8)"
      ]
     },
     "execution_count": 16,
     "metadata": {},
     "output_type": "execute_result"
    }
   ],
   "source": [
    "df.shape"
   ]
  },
  {
   "cell_type": "code",
   "execution_count": 17,
   "metadata": {},
   "outputs": [
    {
     "data": {
      "text/plain": [
       "B Witched               2\n",
       "Ace Killer Og           1\n",
       "Velvet Bud              1\n",
       "Grapefruit Diesel       1\n",
       "Platinum Kush           1\n",
       "                       ..\n",
       "Alien Inferno           1\n",
       "Diesel Duff             1\n",
       "Hindu Kush              1\n",
       "Platinum Sour Diesel    1\n",
       "Ancient Kush            1\n",
       "Name: Strain, Length: 2154, dtype: int64"
      ]
     },
     "execution_count": 17,
     "metadata": {},
     "output_type": "execute_result"
    }
   ],
   "source": [
    "# Check for doubles:\n",
    "df['Strain'].value_counts()"
   ]
  },
  {
   "cell_type": "code",
   "execution_count": 18,
   "metadata": {},
   "outputs": [],
   "source": [
    "import spacy\n",
    "nlp = spacy.load('en_core_web_lg')"
   ]
  },
  {
   "cell_type": "code",
   "execution_count": 19,
   "metadata": {},
   "outputs": [],
   "source": [
    "# Define a function to tokenize the text:\n",
    "def tokenizer(text):\n",
    "    doc=nlp(text)\n",
    "    return [token.lemma_ for token in doc if ((token.is_stop == False) and (token.is_punct == False)) and (token.pos_ != 'PRON')]"
   ]
  },
  {
   "cell_type": "code",
   "execution_count": 20,
   "metadata": {},
   "outputs": [],
   "source": [
    "from sklearn.feature_extraction.text import TfidfVectorizer\n",
    "from sklearn.neighbors import NearestNeighbors"
   ]
  },
  {
   "cell_type": "code",
   "execution_count": 26,
   "metadata": {},
   "outputs": [
    {
     "data": {
      "text/html": [
       "<div>\n",
       "<style scoped>\n",
       "    .dataframe tbody tr th:only-of-type {\n",
       "        vertical-align: middle;\n",
       "    }\n",
       "\n",
       "    .dataframe tbody tr th {\n",
       "        vertical-align: top;\n",
       "    }\n",
       "\n",
       "    .dataframe thead th {\n",
       "        text-align: right;\n",
       "    }\n",
       "</style>\n",
       "<table border=\"1\" class=\"dataframe\">\n",
       "  <thead>\n",
       "    <tr style=\"text-align: right;\">\n",
       "      <th></th>\n",
       "      <th>arouse</th>\n",
       "      <th>arouse creative</th>\n",
       "      <th>arouse energetic</th>\n",
       "      <th>arouse euphoric</th>\n",
       "      <th>arouse happy</th>\n",
       "      <th>arouse relaxed</th>\n",
       "      <th>arouse sleepy</th>\n",
       "      <th>arouse talkative</th>\n",
       "      <th>arouse tingly</th>\n",
       "      <th>arouse uplifted</th>\n",
       "      <th>...</th>\n",
       "      <th>uplifted euphoric</th>\n",
       "      <th>uplifted focus</th>\n",
       "      <th>uplifted focused</th>\n",
       "      <th>uplifted giggly</th>\n",
       "      <th>uplifted happy</th>\n",
       "      <th>uplifted hungry</th>\n",
       "      <th>uplifted relaxed</th>\n",
       "      <th>uplifted sleepy</th>\n",
       "      <th>uplifted talkative</th>\n",
       "      <th>uplifted tingly</th>\n",
       "    </tr>\n",
       "  </thead>\n",
       "  <tbody>\n",
       "    <tr>\n",
       "      <th>0</th>\n",
       "      <td>0.305935</td>\n",
       "      <td>0.00000</td>\n",
       "      <td>0.0</td>\n",
       "      <td>0.0</td>\n",
       "      <td>0.0</td>\n",
       "      <td>0.0</td>\n",
       "      <td>0.0</td>\n",
       "      <td>0.0</td>\n",
       "      <td>0.0</td>\n",
       "      <td>0.0</td>\n",
       "      <td>...</td>\n",
       "      <td>0.0</td>\n",
       "      <td>0.0</td>\n",
       "      <td>0.0</td>\n",
       "      <td>0.0</td>\n",
       "      <td>0.0</td>\n",
       "      <td>0.0</td>\n",
       "      <td>0.0</td>\n",
       "      <td>0.0</td>\n",
       "      <td>0.0</td>\n",
       "      <td>0.0</td>\n",
       "    </tr>\n",
       "    <tr>\n",
       "      <th>1</th>\n",
       "      <td>0.000000</td>\n",
       "      <td>0.00000</td>\n",
       "      <td>0.0</td>\n",
       "      <td>0.0</td>\n",
       "      <td>0.0</td>\n",
       "      <td>0.0</td>\n",
       "      <td>0.0</td>\n",
       "      <td>0.0</td>\n",
       "      <td>0.0</td>\n",
       "      <td>0.0</td>\n",
       "      <td>...</td>\n",
       "      <td>0.0</td>\n",
       "      <td>0.0</td>\n",
       "      <td>0.0</td>\n",
       "      <td>0.0</td>\n",
       "      <td>0.0</td>\n",
       "      <td>0.0</td>\n",
       "      <td>0.0</td>\n",
       "      <td>0.0</td>\n",
       "      <td>0.0</td>\n",
       "      <td>0.0</td>\n",
       "    </tr>\n",
       "    <tr>\n",
       "      <th>2</th>\n",
       "      <td>0.000000</td>\n",
       "      <td>0.00000</td>\n",
       "      <td>0.0</td>\n",
       "      <td>0.0</td>\n",
       "      <td>0.0</td>\n",
       "      <td>0.0</td>\n",
       "      <td>0.0</td>\n",
       "      <td>0.0</td>\n",
       "      <td>0.0</td>\n",
       "      <td>0.0</td>\n",
       "      <td>...</td>\n",
       "      <td>0.0</td>\n",
       "      <td>0.0</td>\n",
       "      <td>0.0</td>\n",
       "      <td>0.0</td>\n",
       "      <td>0.0</td>\n",
       "      <td>0.0</td>\n",
       "      <td>0.0</td>\n",
       "      <td>0.0</td>\n",
       "      <td>0.0</td>\n",
       "      <td>0.0</td>\n",
       "    </tr>\n",
       "    <tr>\n",
       "      <th>3</th>\n",
       "      <td>0.348341</td>\n",
       "      <td>0.64076</td>\n",
       "      <td>0.0</td>\n",
       "      <td>0.0</td>\n",
       "      <td>0.0</td>\n",
       "      <td>0.0</td>\n",
       "      <td>0.0</td>\n",
       "      <td>0.0</td>\n",
       "      <td>0.0</td>\n",
       "      <td>0.0</td>\n",
       "      <td>...</td>\n",
       "      <td>0.0</td>\n",
       "      <td>0.0</td>\n",
       "      <td>0.0</td>\n",
       "      <td>0.0</td>\n",
       "      <td>0.0</td>\n",
       "      <td>0.0</td>\n",
       "      <td>0.0</td>\n",
       "      <td>0.0</td>\n",
       "      <td>0.0</td>\n",
       "      <td>0.0</td>\n",
       "    </tr>\n",
       "    <tr>\n",
       "      <th>4</th>\n",
       "      <td>0.000000</td>\n",
       "      <td>0.00000</td>\n",
       "      <td>0.0</td>\n",
       "      <td>0.0</td>\n",
       "      <td>0.0</td>\n",
       "      <td>0.0</td>\n",
       "      <td>0.0</td>\n",
       "      <td>0.0</td>\n",
       "      <td>0.0</td>\n",
       "      <td>0.0</td>\n",
       "      <td>...</td>\n",
       "      <td>0.0</td>\n",
       "      <td>0.0</td>\n",
       "      <td>0.0</td>\n",
       "      <td>0.0</td>\n",
       "      <td>0.0</td>\n",
       "      <td>0.0</td>\n",
       "      <td>0.0</td>\n",
       "      <td>0.0</td>\n",
       "      <td>0.0</td>\n",
       "      <td>0.0</td>\n",
       "    </tr>\n",
       "  </tbody>\n",
       "</table>\n",
       "<p>5 rows × 190 columns</p>\n",
       "</div>"
      ],
      "text/plain": [
       "     arouse  arouse creative  arouse energetic  arouse euphoric  arouse happy  \\\n",
       "0  0.305935          0.00000               0.0              0.0           0.0   \n",
       "1  0.000000          0.00000               0.0              0.0           0.0   \n",
       "2  0.000000          0.00000               0.0              0.0           0.0   \n",
       "3  0.348341          0.64076               0.0              0.0           0.0   \n",
       "4  0.000000          0.00000               0.0              0.0           0.0   \n",
       "\n",
       "   arouse relaxed  arouse sleepy  arouse talkative  arouse tingly  \\\n",
       "0             0.0            0.0               0.0            0.0   \n",
       "1             0.0            0.0               0.0            0.0   \n",
       "2             0.0            0.0               0.0            0.0   \n",
       "3             0.0            0.0               0.0            0.0   \n",
       "4             0.0            0.0               0.0            0.0   \n",
       "\n",
       "   arouse uplifted  ...  uplifted euphoric  uplifted focus  uplifted focused  \\\n",
       "0              0.0  ...                0.0             0.0               0.0   \n",
       "1              0.0  ...                0.0             0.0               0.0   \n",
       "2              0.0  ...                0.0             0.0               0.0   \n",
       "3              0.0  ...                0.0             0.0               0.0   \n",
       "4              0.0  ...                0.0             0.0               0.0   \n",
       "\n",
       "   uplifted giggly  uplifted happy  uplifted hungry  uplifted relaxed  \\\n",
       "0              0.0             0.0              0.0               0.0   \n",
       "1              0.0             0.0              0.0               0.0   \n",
       "2              0.0             0.0              0.0               0.0   \n",
       "3              0.0             0.0              0.0               0.0   \n",
       "4              0.0             0.0              0.0               0.0   \n",
       "\n",
       "   uplifted sleepy  uplifted talkative  uplifted tingly  \n",
       "0              0.0                 0.0              0.0  \n",
       "1              0.0                 0.0              0.0  \n",
       "2              0.0                 0.0              0.0  \n",
       "3              0.0                 0.0              0.0  \n",
       "4              0.0                 0.0              0.0  \n",
       "\n",
       "[5 rows x 190 columns]"
      ]
     },
     "execution_count": 26,
     "metadata": {},
     "output_type": "execute_result"
    }
   ],
   "source": [
    "# Build the model:\n",
    "model = TfidfVectorizer(stop_words = 'english',\n",
    "                       ngram_range = (1,2),\n",
    "                       max_df = .95,\n",
    "                       min_df = 3,\n",
    "                       tokenizer = tokenizer)\n",
    "\n",
    "# Fit and transform the data:\n",
    "dtm = model.fit_transform(df['Effects'])\n",
    "\n",
    "# Get features:\n",
    "dtm = pd.DataFrame(dtm.todense(), columns = model.get_feature_names())\n",
    "\n",
    "# Print the feature matrix:\n",
    "dtm.head()"
   ]
  },
  {
   "cell_type": "code",
   "execution_count": 27,
   "metadata": {
    "scrolled": true
   },
   "outputs": [
    {
     "data": {
      "text/plain": [
       "(2155, 190)"
      ]
     },
     "execution_count": 27,
     "metadata": {},
     "output_type": "execute_result"
    }
   ],
   "source": [
    "dtm.shape"
   ]
  },
  {
   "cell_type": "code",
   "execution_count": 28,
   "metadata": {},
   "outputs": [],
   "source": [
    "nn = NearestNeighbors(n_neighbors=5, algorithm='kd_tree')\n",
    "model_t = nn.fit(dtm)"
   ]
  },
  {
   "cell_type": "code",
   "execution_count": 29,
   "metadata": {},
   "outputs": [
    {
     "data": {
      "text/plain": [
       "array([[ 127],\n",
       "       [1896],\n",
       "       [ 151],\n",
       "       [ 519],\n",
       "       [ 313]])"
      ]
     },
     "execution_count": 29,
     "metadata": {},
     "output_type": "execute_result"
    }
   ],
   "source": [
    "# Fin similar strains and return the strain_id:\n",
    "# Victorise the text:\n",
    "sample = ['I need something to make me sleepy']\n",
    "#model.fit(sample)\n",
    "vec = model.transform(sample)\n",
    "# find similar effects:\n",
    "dense = vec.todense()\n",
    "similar = model_t.kneighbors(dense, return_distance=False)\n",
    "similar.T"
   ]
  },
  {
   "cell_type": "code",
   "execution_count": 13,
   "metadata": {},
   "outputs": [
    {
     "data": {
      "text/plain": [
       "313"
      ]
     },
     "execution_count": 13,
     "metadata": {},
     "output_type": "execute_result"
    }
   ],
   "source": [
    "similar[0][4]"
   ]
  },
  {
   "cell_type": "code",
   "execution_count": 14,
   "metadata": {},
   "outputs": [
    {
     "data": {
      "text/plain": [
       "[127, 1896, 151, 519, 313]"
      ]
     },
     "execution_count": 14,
     "metadata": {},
     "output_type": "execute_result"
    }
   ],
   "source": [
    "output = []\n",
    "for i in range(5):\n",
    "    elem = similar[0][i]\n",
    "    output.append(elem)\n",
    "output"
   ]
  },
  {
   "cell_type": "code",
   "execution_count": 15,
   "metadata": {},
   "outputs": [
    {
     "data": {
      "text/html": [
       "<div>\n",
       "<style scoped>\n",
       "    .dataframe tbody tr th:only-of-type {\n",
       "        vertical-align: middle;\n",
       "    }\n",
       "\n",
       "    .dataframe tbody tr th {\n",
       "        vertical-align: top;\n",
       "    }\n",
       "\n",
       "    .dataframe thead th {\n",
       "        text-align: right;\n",
       "    }\n",
       "</style>\n",
       "<table border=\"1\" class=\"dataframe\">\n",
       "  <thead>\n",
       "    <tr style=\"text-align: right;\">\n",
       "      <th></th>\n",
       "      <th>Id</th>\n",
       "      <th>Strain</th>\n",
       "      <th>Type</th>\n",
       "      <th>Rating</th>\n",
       "      <th>Effects</th>\n",
       "      <th>Description</th>\n",
       "      <th>Flavors</th>\n",
       "      <th>Nearest</th>\n",
       "    </tr>\n",
       "  </thead>\n",
       "  <tbody>\n",
       "    <tr>\n",
       "      <th>127</th>\n",
       "      <td>127</td>\n",
       "      <td>Eastern European</td>\n",
       "      <td>indica</td>\n",
       "      <td>5.00</td>\n",
       "      <td>Sleepy,Happy,Relaxed</td>\n",
       "      <td>Eastern European refers to any strain that gro...</td>\n",
       "      <td>Earthy,Woody,Pine</td>\n",
       "      <td>127,180,512,062,491,000,000</td>\n",
       "    </tr>\n",
       "    <tr>\n",
       "      <th>151</th>\n",
       "      <td>151</td>\n",
       "      <td>Club 69</td>\n",
       "      <td>indica</td>\n",
       "      <td>5.00</td>\n",
       "      <td>Sleepy,Relaxed</td>\n",
       "      <td>Club 69 is a special strain crafted by Josh D ...</td>\n",
       "      <td>Diesel,Flowery,Earthy</td>\n",
       "      <td>151,2115,93,804,202,1056</td>\n",
       "    </tr>\n",
       "    <tr>\n",
       "      <th>313</th>\n",
       "      <td>313</td>\n",
       "      <td>Joliet Jake</td>\n",
       "      <td>indica</td>\n",
       "      <td>4.55</td>\n",
       "      <td>Relaxed,Sleepy,Euphoric</td>\n",
       "      <td>Joliet Jake by Cresco Labs brings back-to-back...</td>\n",
       "      <td>Berry,Sweet,Menthol</td>\n",
       "      <td>313,71,1283,20,1772,2147</td>\n",
       "    </tr>\n",
       "    <tr>\n",
       "      <th>519</th>\n",
       "      <td>519</td>\n",
       "      <td>Shurman 7</td>\n",
       "      <td>hybrid</td>\n",
       "      <td>4.32</td>\n",
       "      <td>Relaxed,Sleepy,Euphoric</td>\n",
       "      <td>Shurman #7 by Solstice won Best CBD Flower at ...</td>\n",
       "      <td>Earthy,Sweet,Pine</td>\n",
       "      <td>519,876,120,721,532,000,000</td>\n",
       "    </tr>\n",
       "    <tr>\n",
       "      <th>1896</th>\n",
       "      <td>1896</td>\n",
       "      <td>Dawgfather Og</td>\n",
       "      <td>hybrid</td>\n",
       "      <td>2.95</td>\n",
       "      <td>Sleepy,Relaxed</td>\n",
       "      <td>Dawgfather OG, or simply “The Dawgfather,” is ...</td>\n",
       "      <td>Spicy/Herbal,Pepper,Pungent</td>\n",
       "      <td>1896,1793,290,1192,59,131</td>\n",
       "    </tr>\n",
       "  </tbody>\n",
       "</table>\n",
       "</div>"
      ],
      "text/plain": [
       "        Id            Strain    Type  Rating                  Effects  \\\n",
       "127    127  Eastern European  indica    5.00     Sleepy,Happy,Relaxed   \n",
       "151    151           Club 69  indica    5.00           Sleepy,Relaxed   \n",
       "313    313       Joliet Jake  indica    4.55  Relaxed,Sleepy,Euphoric   \n",
       "519    519         Shurman 7  hybrid    4.32  Relaxed,Sleepy,Euphoric   \n",
       "1896  1896     Dawgfather Og  hybrid    2.95           Sleepy,Relaxed   \n",
       "\n",
       "                                            Description  \\\n",
       "127   Eastern European refers to any strain that gro...   \n",
       "151   Club 69 is a special strain crafted by Josh D ...   \n",
       "313   Joliet Jake by Cresco Labs brings back-to-back...   \n",
       "519   Shurman #7 by Solstice won Best CBD Flower at ...   \n",
       "1896  Dawgfather OG, or simply “The Dawgfather,” is ...   \n",
       "\n",
       "                          Flavors                      Nearest  \n",
       "127             Earthy,Woody,Pine  127,180,512,062,491,000,000  \n",
       "151         Diesel,Flowery,Earthy     151,2115,93,804,202,1056  \n",
       "313           Berry,Sweet,Menthol     313,71,1283,20,1772,2147  \n",
       "519             Earthy,Sweet,Pine  519,876,120,721,532,000,000  \n",
       "1896  Spicy/Herbal,Pepper,Pungent    1896,1793,290,1192,59,131  "
      ]
     },
     "execution_count": 15,
     "metadata": {},
     "output_type": "execute_result"
    }
   ],
   "source": [
    "result = df[(df['Id']==output[0]) | \n",
    "            (df['Id']==output[1]) | \n",
    "            (df['Id']==output[2]) |\n",
    "            (df['Id']==output[3]) |\n",
    "            (df['Id']==output[4]) ]\n",
    "result = result.sort_values(by=['Rating'], ascending=False)\n",
    "result.head()"
   ]
  },
  {
   "cell_type": "code",
   "execution_count": null,
   "metadata": {},
   "outputs": [],
   "source": []
  }
 ],
 "metadata": {
  "kernelspec": {
   "display_name": "Python 3",
   "language": "python",
   "name": "python3"
  },
  "language_info": {
   "codemirror_mode": {
    "name": "ipython",
    "version": 3
   },
   "file_extension": ".py",
   "mimetype": "text/x-python",
   "name": "python",
   "nbconvert_exporter": "python",
   "pygments_lexer": "ipython3",
   "version": "3.7.8"
  }
 },
 "nbformat": 4,
 "nbformat_minor": 2
}
