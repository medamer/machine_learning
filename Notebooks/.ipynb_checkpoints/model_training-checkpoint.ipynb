{
 "cells": [
  {
   "cell_type": "code",
   "execution_count": 267,
   "metadata": {},
   "outputs": [],
   "source": [
    "import pandas as pd"
   ]
  },
  {
   "cell_type": "code",
   "execution_count": 268,
   "metadata": {},
   "outputs": [
    {
     "data": {
      "text/html": [
       "<div>\n",
       "<style scoped>\n",
       "    .dataframe tbody tr th:only-of-type {\n",
       "        vertical-align: middle;\n",
       "    }\n",
       "\n",
       "    .dataframe tbody tr th {\n",
       "        vertical-align: top;\n",
       "    }\n",
       "\n",
       "    .dataframe thead th {\n",
       "        text-align: right;\n",
       "    }\n",
       "</style>\n",
       "<table border=\"1\" class=\"dataframe\">\n",
       "  <thead>\n",
       "    <tr style=\"text-align: right;\">\n",
       "      <th></th>\n",
       "      <th>strain_id</th>\n",
       "      <th>strain_name</th>\n",
       "      <th>strain_type</th>\n",
       "      <th>strain_rating</th>\n",
       "      <th>effects_profile</th>\n",
       "      <th>flavor_profile</th>\n",
       "      <th>strain_description</th>\n",
       "      <th>strain_profile</th>\n",
       "    </tr>\n",
       "  </thead>\n",
       "  <tbody>\n",
       "    <tr>\n",
       "      <th>0</th>\n",
       "      <td>0</td>\n",
       "      <td>1024</td>\n",
       "      <td>Sativa</td>\n",
       "      <td>4.4</td>\n",
       "      <td>Uplifted,Happy,Relaxed,Energetic,Creative</td>\n",
       "      <td>Spicy/Herbal,Sage,Woody</td>\n",
       "      <td>1024 is a sativa-dominant hybrid bred in Spain...</td>\n",
       "      <td>Sativa,Uplifted,Happy,Relaxed,Energetic,Creati...</td>\n",
       "    </tr>\n",
       "    <tr>\n",
       "      <th>1</th>\n",
       "      <td>1</td>\n",
       "      <td>100 OG</td>\n",
       "      <td>Hybrid</td>\n",
       "      <td>4.0</td>\n",
       "      <td>Creative,Energetic,Tingly,Euphoric,Relaxed</td>\n",
       "      <td>Earthy,Sweet,Citrus</td>\n",
       "      <td>$100 OG is a 50/50 hybrid strain that packs a ...</td>\n",
       "      <td>Hybrid,Creative,Energetic,Tingly,Euphoric,Rela...</td>\n",
       "    </tr>\n",
       "    <tr>\n",
       "      <th>2</th>\n",
       "      <td>2</td>\n",
       "      <td>13 Dawgs</td>\n",
       "      <td>Hybrid</td>\n",
       "      <td>4.2</td>\n",
       "      <td>Tingly,Creative,Hungry,Relaxed,Uplifted</td>\n",
       "      <td>Apricot,Citrus,Grapefruit</td>\n",
       "      <td>13 Dawgs is a hybrid of G13 and Chemdawg genet...</td>\n",
       "      <td>Hybrid,Tingly,Creative,Hungry,Relaxed,Uplifted...</td>\n",
       "    </tr>\n",
       "    <tr>\n",
       "      <th>3</th>\n",
       "      <td>3</td>\n",
       "      <td>24K Gold</td>\n",
       "      <td>Hybrid</td>\n",
       "      <td>4.6</td>\n",
       "      <td>Happy,Relaxed,Euphoric,Uplifted,Talkative</td>\n",
       "      <td>Citrus,Earthy,Orange</td>\n",
       "      <td>Also known as Kosher Tangie, 24k Gold is a 60%...</td>\n",
       "      <td>Hybrid,Happy,Relaxed,Euphoric,Uplifted,Talkati...</td>\n",
       "    </tr>\n",
       "    <tr>\n",
       "      <th>4</th>\n",
       "      <td>4</td>\n",
       "      <td>303 OG</td>\n",
       "      <td>Indica</td>\n",
       "      <td>4.2</td>\n",
       "      <td>Relaxed,Happy,Euphoric,Uplifted,Giggly</td>\n",
       "      <td>Citrus,Pungent,Earthy</td>\n",
       "      <td>The indica-dominant 303 OG is a Colorado strai...</td>\n",
       "      <td>Indica,Relaxed,Happy,Euphoric,Uplifted,Giggly,...</td>\n",
       "    </tr>\n",
       "  </tbody>\n",
       "</table>\n",
       "</div>"
      ],
      "text/plain": [
       "   strain_id strain_name strain_type  strain_rating  \\\n",
       "0          0        1024      Sativa            4.4   \n",
       "1          1      100 OG      Hybrid            4.0   \n",
       "2          2    13 Dawgs      Hybrid            4.2   \n",
       "3          3    24K Gold      Hybrid            4.6   \n",
       "4          4      303 OG      Indica            4.2   \n",
       "\n",
       "                              effects_profile             flavor_profile  \\\n",
       "0   Uplifted,Happy,Relaxed,Energetic,Creative    Spicy/Herbal,Sage,Woody   \n",
       "1  Creative,Energetic,Tingly,Euphoric,Relaxed        Earthy,Sweet,Citrus   \n",
       "2     Tingly,Creative,Hungry,Relaxed,Uplifted  Apricot,Citrus,Grapefruit   \n",
       "3   Happy,Relaxed,Euphoric,Uplifted,Talkative       Citrus,Earthy,Orange   \n",
       "4      Relaxed,Happy,Euphoric,Uplifted,Giggly      Citrus,Pungent,Earthy   \n",
       "\n",
       "                                  strain_description  \\\n",
       "0  1024 is a sativa-dominant hybrid bred in Spain...   \n",
       "1  $100 OG is a 50/50 hybrid strain that packs a ...   \n",
       "2  13 Dawgs is a hybrid of G13 and Chemdawg genet...   \n",
       "3  Also known as Kosher Tangie, 24k Gold is a 60%...   \n",
       "4  The indica-dominant 303 OG is a Colorado strai...   \n",
       "\n",
       "                                      strain_profile  \n",
       "0  Sativa,Uplifted,Happy,Relaxed,Energetic,Creati...  \n",
       "1  Hybrid,Creative,Energetic,Tingly,Euphoric,Rela...  \n",
       "2  Hybrid,Tingly,Creative,Hungry,Relaxed,Uplifted...  \n",
       "3  Hybrid,Happy,Relaxed,Euphoric,Uplifted,Talkati...  \n",
       "4  Indica,Relaxed,Happy,Euphoric,Uplifted,Giggly,...  "
      ]
     },
     "execution_count": 268,
     "metadata": {},
     "output_type": "execute_result"
    }
   ],
   "source": [
    "# Upload the data:\n",
    "df = pd.read_csv('../Data/Cannabis.csv')\n",
    "df.head()"
   ]
  },
  {
   "cell_type": "code",
   "execution_count": 269,
   "metadata": {},
   "outputs": [
    {
     "data": {
      "text/plain": [
       "'Uplifted,Happy,Relaxed,Energetic,Creative'"
      ]
     },
     "execution_count": 269,
     "metadata": {},
     "output_type": "execute_result"
    }
   ],
   "source": [
    "df['effects_profile'][0]"
   ]
  },
  {
   "cell_type": "code",
   "execution_count": 270,
   "metadata": {},
   "outputs": [
    {
     "data": {
      "text/plain": [
       "(1644, 8)"
      ]
     },
     "execution_count": 270,
     "metadata": {},
     "output_type": "execute_result"
    }
   ],
   "source": [
    "df.shape"
   ]
  },
  {
   "cell_type": "code",
   "execution_count": 271,
   "metadata": {},
   "outputs": [
    {
     "data": {
      "text/plain": [
       "Papaya               2\n",
       "Pre 98 Bubba Kush    2\n",
       "Diablo               2\n",
       "Kahuna               2\n",
       "Flo OG               2\n",
       "                    ..\n",
       "Legendary Lemon      1\n",
       "Orange Creamsicle    1\n",
       "91 Krypt             1\n",
       "Jack Burton          1\n",
       "Brian Berry Cough    1\n",
       "Name: strain_name, Length: 1622, dtype: int64"
      ]
     },
     "execution_count": 271,
     "metadata": {},
     "output_type": "execute_result"
    }
   ],
   "source": [
    "# Check for doubles:\n",
    "df['strain_name'].value_counts()"
   ]
  },
  {
   "cell_type": "code",
   "execution_count": 272,
   "metadata": {},
   "outputs": [
    {
     "name": "stdout",
     "output_type": "stream",
     "text": [
      "Requirement already up-to-date: scikit-learn in /Users/mohamed/.local/share/virtualenvs/data_engineer-TgvPB158/lib/python3.7/site-packages (0.23.2)\n",
      "Requirement already satisfied, skipping upgrade: numpy>=1.13.3 in /Users/mohamed/.local/share/virtualenvs/data_engineer-TgvPB158/lib/python3.7/site-packages (from scikit-learn) (1.19.1)\n",
      "Requirement already satisfied, skipping upgrade: joblib>=0.11 in /Users/mohamed/.local/share/virtualenvs/data_engineer-TgvPB158/lib/python3.7/site-packages (from scikit-learn) (0.16.0)\n",
      "Requirement already satisfied, skipping upgrade: scipy>=0.19.1 in /Users/mohamed/.local/share/virtualenvs/data_engineer-TgvPB158/lib/python3.7/site-packages (from scikit-learn) (1.5.2)\n",
      "Requirement already satisfied, skipping upgrade: threadpoolctl>=2.0.0 in /Users/mohamed/.local/share/virtualenvs/data_engineer-TgvPB158/lib/python3.7/site-packages (from scikit-learn) (2.1.0)\n",
      "Note: you may need to restart the kernel to use updated packages.\n"
     ]
    }
   ],
   "source": [
    "pip install -U scikit-learn"
   ]
  },
  {
   "cell_type": "code",
   "execution_count": 273,
   "metadata": {},
   "outputs": [],
   "source": [
    "# Build model:\n"
   ]
  },
  {
   "cell_type": "code",
   "execution_count": 274,
   "metadata": {},
   "outputs": [],
   "source": [
    "import spacy\n",
    "nlp = spacy.load('en_core_web_lg')"
   ]
  },
  {
   "cell_type": "code",
   "execution_count": 275,
   "metadata": {},
   "outputs": [],
   "source": [
    "# def get_lemmas(text):\n",
    "\n",
    "#     lemmas = []\n",
    "\n",
    "    \n",
    "#     doc = nlp(text)\n",
    "    \n",
    "#     # Something goes here :\n",
    "#     for token in doc: \n",
    "#         if ((token.is_stop == False) and (token.is_punct == False)) and (token.pos_ != 'PRON'):\n",
    "#             lemmas.append(token.lemma_)\n",
    "    \n",
    "#     return lemmas"
   ]
  },
  {
   "cell_type": "code",
   "execution_count": 276,
   "metadata": {},
   "outputs": [],
   "source": [
    "# Define a function to tokenize the text:\n",
    "def tokenizer(text):\n",
    "    doc=nlp(text)\n",
    "    return [token.lemma_ for token in doc if ((token.is_stop == False) and (token.is_punct == False)) and (token.pos_ != 'PRON')]"
   ]
  },
  {
   "cell_type": "code",
   "execution_count": 277,
   "metadata": {},
   "outputs": [],
   "source": [
    "data = df.copy()"
   ]
  },
  {
   "cell_type": "code",
   "execution_count": 278,
   "metadata": {},
   "outputs": [],
   "source": [
    "from sklearn.feature_extraction.text import TfidfVectorizer\n",
    "from sklearn.neighbors import NearestNeighbors"
   ]
  },
  {
   "cell_type": "code",
   "execution_count": 279,
   "metadata": {},
   "outputs": [
    {
     "data": {
      "text/html": [
       "<div>\n",
       "<style scoped>\n",
       "    .dataframe tbody tr th:only-of-type {\n",
       "        vertical-align: middle;\n",
       "    }\n",
       "\n",
       "    .dataframe tbody tr th {\n",
       "        vertical-align: top;\n",
       "    }\n",
       "\n",
       "    .dataframe thead th {\n",
       "        text-align: right;\n",
       "    }\n",
       "</style>\n",
       "<table border=\"1\" class=\"dataframe\">\n",
       "  <thead>\n",
       "    <tr style=\"text-align: right;\">\n",
       "      <th></th>\n",
       "      <th>arouse</th>\n",
       "      <th>arouse creative</th>\n",
       "      <th>arouse energetic</th>\n",
       "      <th>arouse euphoric</th>\n",
       "      <th>arouse happy</th>\n",
       "      <th>arouse sleepy</th>\n",
       "      <th>arouse tingly</th>\n",
       "      <th>arouse uplifted</th>\n",
       "      <th>aroused</th>\n",
       "      <th>aroused creative</th>\n",
       "      <th>...</th>\n",
       "      <th>uplifted euphoric</th>\n",
       "      <th>uplifted focus</th>\n",
       "      <th>uplifted focused</th>\n",
       "      <th>uplifted giggly</th>\n",
       "      <th>uplifted happy</th>\n",
       "      <th>uplifted hungry</th>\n",
       "      <th>uplifted relaxed</th>\n",
       "      <th>uplifted sleepy</th>\n",
       "      <th>uplifted talkative</th>\n",
       "      <th>uplifted tingly</th>\n",
       "    </tr>\n",
       "  </thead>\n",
       "  <tbody>\n",
       "    <tr>\n",
       "      <th>0</th>\n",
       "      <td>0.0</td>\n",
       "      <td>0.0</td>\n",
       "      <td>0.0</td>\n",
       "      <td>0.0</td>\n",
       "      <td>0.0</td>\n",
       "      <td>0.0</td>\n",
       "      <td>0.0</td>\n",
       "      <td>0.0</td>\n",
       "      <td>0.0</td>\n",
       "      <td>0.0</td>\n",
       "      <td>...</td>\n",
       "      <td>0.0</td>\n",
       "      <td>0.0</td>\n",
       "      <td>0.0</td>\n",
       "      <td>0.000000</td>\n",
       "      <td>0.375601</td>\n",
       "      <td>0.0</td>\n",
       "      <td>0.0</td>\n",
       "      <td>0.0</td>\n",
       "      <td>0.000000</td>\n",
       "      <td>0.0</td>\n",
       "    </tr>\n",
       "    <tr>\n",
       "      <th>1</th>\n",
       "      <td>0.0</td>\n",
       "      <td>0.0</td>\n",
       "      <td>0.0</td>\n",
       "      <td>0.0</td>\n",
       "      <td>0.0</td>\n",
       "      <td>0.0</td>\n",
       "      <td>0.0</td>\n",
       "      <td>0.0</td>\n",
       "      <td>0.0</td>\n",
       "      <td>0.0</td>\n",
       "      <td>...</td>\n",
       "      <td>0.0</td>\n",
       "      <td>0.0</td>\n",
       "      <td>0.0</td>\n",
       "      <td>0.000000</td>\n",
       "      <td>0.000000</td>\n",
       "      <td>0.0</td>\n",
       "      <td>0.0</td>\n",
       "      <td>0.0</td>\n",
       "      <td>0.000000</td>\n",
       "      <td>0.0</td>\n",
       "    </tr>\n",
       "    <tr>\n",
       "      <th>2</th>\n",
       "      <td>0.0</td>\n",
       "      <td>0.0</td>\n",
       "      <td>0.0</td>\n",
       "      <td>0.0</td>\n",
       "      <td>0.0</td>\n",
       "      <td>0.0</td>\n",
       "      <td>0.0</td>\n",
       "      <td>0.0</td>\n",
       "      <td>0.0</td>\n",
       "      <td>0.0</td>\n",
       "      <td>...</td>\n",
       "      <td>0.0</td>\n",
       "      <td>0.0</td>\n",
       "      <td>0.0</td>\n",
       "      <td>0.000000</td>\n",
       "      <td>0.000000</td>\n",
       "      <td>0.0</td>\n",
       "      <td>0.0</td>\n",
       "      <td>0.0</td>\n",
       "      <td>0.000000</td>\n",
       "      <td>0.0</td>\n",
       "    </tr>\n",
       "    <tr>\n",
       "      <th>3</th>\n",
       "      <td>0.0</td>\n",
       "      <td>0.0</td>\n",
       "      <td>0.0</td>\n",
       "      <td>0.0</td>\n",
       "      <td>0.0</td>\n",
       "      <td>0.0</td>\n",
       "      <td>0.0</td>\n",
       "      <td>0.0</td>\n",
       "      <td>0.0</td>\n",
       "      <td>0.0</td>\n",
       "      <td>...</td>\n",
       "      <td>0.0</td>\n",
       "      <td>0.0</td>\n",
       "      <td>0.0</td>\n",
       "      <td>0.000000</td>\n",
       "      <td>0.000000</td>\n",
       "      <td>0.0</td>\n",
       "      <td>0.0</td>\n",
       "      <td>0.0</td>\n",
       "      <td>0.601281</td>\n",
       "      <td>0.0</td>\n",
       "    </tr>\n",
       "    <tr>\n",
       "      <th>4</th>\n",
       "      <td>0.0</td>\n",
       "      <td>0.0</td>\n",
       "      <td>0.0</td>\n",
       "      <td>0.0</td>\n",
       "      <td>0.0</td>\n",
       "      <td>0.0</td>\n",
       "      <td>0.0</td>\n",
       "      <td>0.0</td>\n",
       "      <td>0.0</td>\n",
       "      <td>0.0</td>\n",
       "      <td>...</td>\n",
       "      <td>0.0</td>\n",
       "      <td>0.0</td>\n",
       "      <td>0.0</td>\n",
       "      <td>0.618272</td>\n",
       "      <td>0.000000</td>\n",
       "      <td>0.0</td>\n",
       "      <td>0.0</td>\n",
       "      <td>0.0</td>\n",
       "      <td>0.000000</td>\n",
       "      <td>0.0</td>\n",
       "    </tr>\n",
       "  </tbody>\n",
       "</table>\n",
       "<p>5 rows × 186 columns</p>\n",
       "</div>"
      ],
      "text/plain": [
       "   arouse  arouse creative  arouse energetic  arouse euphoric  arouse happy  \\\n",
       "0     0.0              0.0               0.0              0.0           0.0   \n",
       "1     0.0              0.0               0.0              0.0           0.0   \n",
       "2     0.0              0.0               0.0              0.0           0.0   \n",
       "3     0.0              0.0               0.0              0.0           0.0   \n",
       "4     0.0              0.0               0.0              0.0           0.0   \n",
       "\n",
       "   arouse sleepy  arouse tingly  arouse uplifted  aroused  aroused creative  \\\n",
       "0            0.0            0.0              0.0      0.0               0.0   \n",
       "1            0.0            0.0              0.0      0.0               0.0   \n",
       "2            0.0            0.0              0.0      0.0               0.0   \n",
       "3            0.0            0.0              0.0      0.0               0.0   \n",
       "4            0.0            0.0              0.0      0.0               0.0   \n",
       "\n",
       "   ...  uplifted euphoric  uplifted focus  uplifted focused  uplifted giggly  \\\n",
       "0  ...                0.0             0.0               0.0         0.000000   \n",
       "1  ...                0.0             0.0               0.0         0.000000   \n",
       "2  ...                0.0             0.0               0.0         0.000000   \n",
       "3  ...                0.0             0.0               0.0         0.000000   \n",
       "4  ...                0.0             0.0               0.0         0.618272   \n",
       "\n",
       "   uplifted happy  uplifted hungry  uplifted relaxed  uplifted sleepy  \\\n",
       "0        0.375601              0.0               0.0              0.0   \n",
       "1        0.000000              0.0               0.0              0.0   \n",
       "2        0.000000              0.0               0.0              0.0   \n",
       "3        0.000000              0.0               0.0              0.0   \n",
       "4        0.000000              0.0               0.0              0.0   \n",
       "\n",
       "   uplifted talkative  uplifted tingly  \n",
       "0            0.000000              0.0  \n",
       "1            0.000000              0.0  \n",
       "2            0.000000              0.0  \n",
       "3            0.601281              0.0  \n",
       "4            0.000000              0.0  \n",
       "\n",
       "[5 rows x 186 columns]"
      ]
     },
     "execution_count": 279,
     "metadata": {},
     "output_type": "execute_result"
    }
   ],
   "source": [
    "# Build the model:\n",
    "model = TfidfVectorizer(stop_words = 'english',\n",
    "                       ngram_range = (1,2),\n",
    "                       max_df = .95,\n",
    "                       min_df = 3,\n",
    "                       tokenizer = tokenizer)\n",
    "\n",
    "# Fit and transform the data:\n",
    "dtm = model.fit_transform(data['effects_profile'])\n",
    "\n",
    "# Get features:\n",
    "dtm = pd.DataFrame(dtm.todense(), columns = tfidf.get_feature_names())\n",
    "\n",
    "# Print the feature matrix:\n",
    "dtm.head()"
   ]
  },
  {
   "cell_type": "code",
   "execution_count": 280,
   "metadata": {
    "scrolled": true
   },
   "outputs": [
    {
     "data": {
      "text/plain": [
       "(1644, 186)"
      ]
     },
     "execution_count": 280,
     "metadata": {},
     "output_type": "execute_result"
    }
   ],
   "source": [
    "dtm.shape"
   ]
  },
  {
   "cell_type": "code",
   "execution_count": 281,
   "metadata": {},
   "outputs": [
    {
     "data": {
      "text/plain": [
       "NearestNeighbors(algorithm='kd_tree')"
      ]
     },
     "execution_count": 281,
     "metadata": {},
     "output_type": "execute_result"
    }
   ],
   "source": [
    "nn = NearestNeighbors(n_neighbors=5, algorithm='kd_tree')\n",
    "nn.fit(dtm)"
   ]
  },
  {
   "cell_type": "code",
   "execution_count": 282,
   "metadata": {},
   "outputs": [
    {
     "data": {
      "text/plain": [
       "array([[ 937],\n",
       "       [1035],\n",
       "       [  85],\n",
       "       [ 223],\n",
       "       [ 537]])"
      ]
     },
     "execution_count": 282,
     "metadata": {},
     "output_type": "execute_result"
    }
   ],
   "source": [
    "# Fin similar strains and return the strain_id:\n",
    "# Victorise the text:\n",
    "sample = ['I need something to make me energitic']\n",
    "vec = model.transform(sample)\n",
    "# find similar effects:\n",
    "dense = vec.todense()\n",
    "similar = nn.kneighbors(dense, return_distance=False)\n",
    "similar.T"
   ]
  },
  {
   "cell_type": "code",
   "execution_count": 283,
   "metadata": {},
   "outputs": [
    {
     "data": {
      "text/plain": [
       "537"
      ]
     },
     "execution_count": 283,
     "metadata": {},
     "output_type": "execute_result"
    }
   ],
   "source": [
    "similar[0][4]"
   ]
  },
  {
   "cell_type": "code",
   "execution_count": 284,
   "metadata": {},
   "outputs": [
    {
     "data": {
      "text/plain": [
       "[937, 1035, 85, 223, 537]"
      ]
     },
     "execution_count": 284,
     "metadata": {},
     "output_type": "execute_result"
    }
   ],
   "source": [
    "output = []\n",
    "for i in range(5):\n",
    "    elem = similar[0][i]\n",
    "    output.append(elem)\n",
    "output"
   ]
  },
  {
   "cell_type": "code",
   "execution_count": 286,
   "metadata": {},
   "outputs": [
    {
     "data": {
      "text/html": [
       "<div>\n",
       "<style scoped>\n",
       "    .dataframe tbody tr th:only-of-type {\n",
       "        vertical-align: middle;\n",
       "    }\n",
       "\n",
       "    .dataframe tbody tr th {\n",
       "        vertical-align: top;\n",
       "    }\n",
       "\n",
       "    .dataframe thead th {\n",
       "        text-align: right;\n",
       "    }\n",
       "</style>\n",
       "<table border=\"1\" class=\"dataframe\">\n",
       "  <thead>\n",
       "    <tr style=\"text-align: right;\">\n",
       "      <th></th>\n",
       "      <th>strain_id</th>\n",
       "      <th>strain_name</th>\n",
       "      <th>strain_type</th>\n",
       "      <th>strain_rating</th>\n",
       "      <th>effects_profile</th>\n",
       "      <th>flavor_profile</th>\n",
       "      <th>strain_description</th>\n",
       "      <th>strain_profile</th>\n",
       "    </tr>\n",
       "  </thead>\n",
       "  <tbody>\n",
       "    <tr>\n",
       "      <th>1035</th>\n",
       "      <td>1035</td>\n",
       "      <td>OG Shark</td>\n",
       "      <td>Hybrid</td>\n",
       "      <td>4.5</td>\n",
       "      <td>Relaxed,Uplifted,Happy,Euphoric,Tingly</td>\n",
       "      <td>Earthy,Chemical,Woody</td>\n",
       "      <td>OG Shark, a rare strain found primarily in Can...</td>\n",
       "      <td>Hybrid,Relaxed,Uplifted,Happy,Euphoric,Tingly,...</td>\n",
       "    </tr>\n",
       "  </tbody>\n",
       "</table>\n",
       "</div>"
      ],
      "text/plain": [
       "      strain_id strain_name strain_type  strain_rating  \\\n",
       "1035       1035    OG Shark      Hybrid            4.5   \n",
       "\n",
       "                             effects_profile         flavor_profile  \\\n",
       "1035  Relaxed,Uplifted,Happy,Euphoric,Tingly  Earthy,Chemical,Woody   \n",
       "\n",
       "                                     strain_description  \\\n",
       "1035  OG Shark, a rare strain found primarily in Can...   \n",
       "\n",
       "                                         strain_profile  \n",
       "1035  Hybrid,Relaxed,Uplifted,Happy,Euphoric,Tingly,...  "
      ]
     },
     "execution_count": 286,
     "metadata": {},
     "output_type": "execute_result"
    }
   ],
   "source": [
    "data[data['strain_id']==1035]"
   ]
  },
  {
   "cell_type": "code",
   "execution_count": null,
   "metadata": {},
   "outputs": [],
   "source": []
  }
 ],
 "metadata": {
  "kernelspec": {
   "display_name": "Python 3",
   "language": "python",
   "name": "python3"
  },
  "language_info": {
   "codemirror_mode": {
    "name": "ipython",
    "version": 3
   },
   "file_extension": ".py",
   "mimetype": "text/x-python",
   "name": "python",
   "nbconvert_exporter": "python",
   "pygments_lexer": "ipython3",
   "version": "3.7.8"
  }
 },
 "nbformat": 4,
 "nbformat_minor": 2
}
